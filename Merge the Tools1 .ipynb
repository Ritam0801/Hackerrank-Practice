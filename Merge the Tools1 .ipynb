{
 "cells": [
  {
   "cell_type": "markdown",
   "id": "72cc3ff1",
   "metadata": {},
   "source": [
    "## Merge the Tool!\n",
    "\n",
    "> Consider the following:\n",
    "\n",
    "   + a string `s` where s = c0c1....cn-1\n",
    "   + an integer `k` where `k` is a factor of `n`\n",
    " \n",
    "   We can split `s` into `n/k` subsegments where each subsegment `ti` , consists of a contiguous block of `k`characters in `s` . \n",
    "      Then, use each `ti` to create string `si` such that:\n",
    "  \n",
    "   + The characters in `ui` are a subsequence of the characters in `ti`.\n",
    "   + Any repeat occurrence of a character is removed from the string such that each character in `ui`occurs exactly once. In other words, if the character at some index `j` in `ti` occurs at a previous index < `j`in `ti` , then do not include the character in string `ui` .\n",
    "  \n",
    "   <b>Example</b>\n",
    " \n",
    "    `s = AAABCAMMA\n",
    "     k = 3`\n",
    "\n",
    "   There are three substrings of length `3` to consider: `AAA`, `BCA` and `DDE`. The first substring is all 'A' characters, so `ui = A`. The second substring has all distinct characters, so `u2 = BCA` . The third substring has `2`different characters, so `u3 = MA`\n",
    "\n",
    "   Note that a subsequence maintains the original order of characters encountered. The order of character each subsequence shown is important.\n",
    "\n",
    "   <b>Function Description</b>\n",
    "\n",
    "   Complete the merge_the_tools function in the editor below.\n",
    "\n",
    "   merge_the_tools has the following parameters:\n",
    "\n",
    "   + string s: the string to analyze\n",
    "   + int k: the size of substrings to analyze\n",
    "\n"
   ]
  },
  {
   "cell_type": "code",
   "execution_count": 1,
   "id": "6f24de80",
   "metadata": {},
   "outputs": [
    {
     "name": "stdout",
     "output_type": "stream",
     "text": [
      "aaabcamma\n",
      "3\n",
      "a\n",
      "bca\n",
      "ma\n"
     ]
    }
   ],
   "source": [
    "def merge_the_tools(string, k):\n",
    "    for i in range(0,len(string), k):\n",
    "        \n",
    "        #slice string upto k characters\n",
    "        line = string[i:i+k]\n",
    "        seen = set()\n",
    "        \n",
    "        for i in line:\n",
    "            #only print if we haven't already seen this character\n",
    "            if i not in seen:\n",
    "                print(i,end=\"\")\n",
    "                seen.add(i)\n",
    "        #prints a new line\n",
    "        print()\n",
    "\n",
    "if __name__ == '__main__':\n",
    "    string, k = input(), int(input())\n",
    "    merge_the_tools(string, k)"
   ]
  },
  {
   "cell_type": "markdown",
   "id": "4ca1fc9f",
   "metadata": {},
   "source": [
    "#### Explanation\n",
    "\n",
    "+ firts we are creating `sub_strings` of the entire string\n",
    "+ checking the repetating characters in the `sub_string`\n",
    "+ if no repetating characters, we are printing them one by one"
   ]
  },
  {
   "cell_type": "markdown",
   "id": "32a45e9f",
   "metadata": {},
   "source": [
    "#### Key Learnings -\n",
    "\n",
    "> `range()` function takes 3 parameters as argument -\n",
    "\n",
    "`range(start, stop, step)` where - \n",
    "\n",
    "+ `start` - <b>Optional</b>. An integer number specifying at which position to start. Default is 0\n",
    "+ `stop` - <b>Required</b>. An integer number specifying at which position to stop.\n",
    "+ `step` - <b>Optional</b>. An integer number specifying the incrementation. Default is 1\n",
    "\n",
    "\n",
    "> #### Creating sub_string"
   ]
  },
  {
   "cell_type": "code",
   "execution_count": 3,
   "id": "4c07725d",
   "metadata": {},
   "outputs": [
    {
     "name": "stdout",
     "output_type": "stream",
     "text": [
      "reeCod\n"
     ]
    }
   ],
   "source": [
    "string = 'FreeCodeCamp'\n",
    "\n",
    "# Sub_string = string[3:7]\n",
    "print(string[1:7])"
   ]
  },
  {
   "cell_type": "markdown",
   "id": "3d185c36",
   "metadata": {},
   "source": [
    "\n",
    "\n",
    "\n",
    "\n",
    "\n",
    "#### some testing codes :p"
   ]
  },
  {
   "cell_type": "code",
   "execution_count": 21,
   "id": "b41b12f9",
   "metadata": {},
   "outputs": [
    {
     "name": "stdout",
     "output_type": "stream",
     "text": [
      "{4.65, 4, 6.5555, 5, 'ritam', 23, 89}\n"
     ]
    }
   ],
   "source": [
    "# code for using 'set()' \n",
    "\n",
    "list = [23, 89, 6.5555, 4.65,4,5,23,6.5555, 'ritam', 4.65, 'ritam']\n",
    "\n",
    "\"\"\"\n",
    "def square(number):\n",
    "    return number**2\n",
    "\n",
    "obj = square()\n",
    "\"\"\"\n",
    "print(set(list))"
   ]
  },
  {
   "cell_type": "code",
   "execution_count": null,
   "id": "77fb1ce7",
   "metadata": {},
   "outputs": [],
   "source": []
  },
  {
   "cell_type": "code",
   "execution_count": 46,
   "id": "6ad408c0",
   "metadata": {},
   "outputs": [
    {
     "name": "stdout",
     "output_type": "stream",
     "text": [
      "a\n",
      "bca\n",
      "ma\n"
     ]
    }
   ],
   "source": [
    "def merge_the_tools(string, k):\n",
    "    for i in range(0,len(string), k):\n",
    "        \n",
    "        sub_string = string[i:i+k]\n",
    "        seen = set()\n",
    "        \n",
    "        for i in sub_string:\n",
    "            if i not in seen:\n",
    "                print(i, end=\"\")\n",
    "                seen.add(i)\n",
    "        print()\n",
    "        \n",
    "if __name__ == '__main__':\n",
    "    string, k = input(), int(input())\n",
    "    merge_the_tools('aaabcamma', 3)\n",
    "    "
   ]
  },
  {
   "cell_type": "code",
   "execution_count": 88,
   "id": "6a1ff613",
   "metadata": {},
   "outputs": [
    {
     "name": "stdout",
     "output_type": "stream",
     "text": [
      "a\n",
      "\n",
      "bca\n"
     ]
    }
   ],
   "source": [
    "my_string = 'aaabcamma'\n",
    "k = 3\n",
    "\n",
    "def merge_string(string, k):\n",
    "    for character in (0, len(string),k):\n",
    "        \n",
    "        sub_string = string[character : character+k]\n",
    "        seen = set()\n",
    "        \n",
    "        for character in sub_string:\n",
    "            if character not in seen:\n",
    "                print(character, end ='')\n",
    "                seen.add(character)\n",
    "                \n",
    "        print()\n",
    "        \n",
    "merge_string(my_string, k)\n",
    "        "
   ]
  },
  {
   "cell_type": "code",
   "execution_count": 72,
   "id": "772ef6cd",
   "metadata": {
    "scrolled": true
   },
   "outputs": [
    {
     "name": "stdout",
     "output_type": "stream",
     "text": [
      "odd\n",
      "None\n"
     ]
    }
   ],
   "source": [
    "# sample code for assigning a function to a variable \n",
    "\n",
    "num = 45\n",
    "\n",
    "def sqrt(number):\n",
    "    return number ** 2\n",
    "\n",
    "def odd_even(no):\n",
    "    if no %2 == 0:\n",
    "        print('even')\n",
    "    else:\n",
    "        print('odd')\n",
    "        \n",
    "    #return 'aressdeplp'\n",
    "\n",
    "#obj1 = sqrt(num)\n",
    "obj2 = odd_even(num)\n",
    "\n",
    "#print(sqrt(num))\n",
    "\n",
    "\n",
    "print(obj2)\n",
    "#print(obj1)"
   ]
  },
  {
   "cell_type": "code",
   "execution_count": 116,
   "id": "8d0bc19c",
   "metadata": {},
   "outputs": [
    {
     "name": "stdout",
     "output_type": "stream",
     "text": [
      "{'m', 'c', 'b', 'a'}\n"
     ]
    }
   ],
   "source": [
    "string = 'aaabcamma'\n",
    "#for i in range(0, len(string)):\n",
    "seen = set(string)\n",
    "print(seen)\n",
    "    "
   ]
  },
  {
   "cell_type": "code",
   "execution_count": 123,
   "id": "d2f7d341",
   "metadata": {},
   "outputs": [
    {
     "name": "stdout",
     "output_type": "stream",
     "text": [
      "rit\n",
      "ama\n",
      "dhy\n",
      "a\n"
     ]
    }
   ],
   "source": [
    "str = ' ritamadhya'\n",
    "div = 3\n",
    "\n",
    "for i in range(1, len(str), div):\n",
    "    sub_str = str[i: i+div]\n",
    "    print(sub_str)"
   ]
  },
  {
   "cell_type": "markdown",
   "id": "a8d078ea",
   "metadata": {},
   "source": [
    "#### Creating sub_string"
   ]
  },
  {
   "cell_type": "code",
   "execution_count": 114,
   "id": "5dff2085",
   "metadata": {},
   "outputs": [
    {
     "name": "stdout",
     "output_type": "stream",
     "text": [
      "a\n",
      "bca\n",
      "ma\n"
     ]
    }
   ],
   "source": [
    "string = 'aaabcamma'\n",
    "\n",
    "h = 3 # division number\n",
    "\n",
    "#sub_string = string[0:7]\n",
    "#print(sub_string)\n",
    "\n",
    "for i in range(0, len(string), h):\n",
    "    sub_string = string[i:i+h]\n",
    "    seen = set()\n",
    "    #print(seen)\n",
    "    \n",
    "    for i in sub_string:\n",
    "        if i not in seen:\n",
    "            print(i, end = '')\n",
    "            seen.add(i)\n",
    "    print()"
   ]
  },
  {
   "cell_type": "code",
   "execution_count": null,
   "id": "6d76d7c3",
   "metadata": {},
   "outputs": [],
   "source": []
  }
 ],
 "metadata": {
  "kernelspec": {
   "display_name": "Python 3",
   "language": "python",
   "name": "python3"
  },
  "language_info": {
   "codemirror_mode": {
    "name": "ipython",
    "version": 3
   },
   "file_extension": ".py",
   "mimetype": "text/x-python",
   "name": "python",
   "nbconvert_exporter": "python",
   "pygments_lexer": "ipython3",
   "version": "3.8.10"
  }
 },
 "nbformat": 4,
 "nbformat_minor": 5
}
