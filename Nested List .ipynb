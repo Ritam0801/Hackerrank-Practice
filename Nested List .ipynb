{
 "cells": [
  {
   "cell_type": "markdown",
   "id": "69bee0aa",
   "metadata": {},
   "source": [
    "## Nested List \n",
    "\n",
    "> #### Problem statement\n",
    "\n",
    "Given the names and grades for each student in a class of `N`students, store them in a nested list and print the name(s) of any student(s) having the second lowest grade.\n",
    "\n",
    "<b>Note:</b> If there are multiple students with the second lowest grade, order their names alphabetically and print each name on a new line.\n",
    "\n",
    "#### Example :\n",
    "`records = [['chi',  20.0],['beta', 50.0],['alpha', 50.5]]`\n",
    "\n",
    "The ordered list of scores is `[20.0,50.0]` , so the second lowest score is `50.0` . There are two students with that score: `['beta', 'alpha']`Ordered alphabetically, the names are printed as:\n",
    "\n",
    "`alpha\n",
    " beta`\n",
    " \n",
    " <b>Input Format</b>\n",
    "\n",
    "The first line contains an integer,`N`,the number of students.\n",
    "The `2N` subsequent lines describe each student over `2`lines.\n",
    "- The first line contains a student's name.\n",
    "- The second line contains their grade. \n",
    "\n",
    "#### Constraints\n",
    "\n",
    "+ `2 <= N <= 5`\n",
    "\n",
    "+ There will always be one or more students having the second lowest grade. \n",
    "\n",
    "<b>Output Format :</b>\n",
    "\n",
    "Print the name(s) of any student(s) having the second lowest grade in. If there are multiple students, order their names alphabetically and print each one on a new line.\n",
    "\n",
    "<b>Sample Input 0</b>\n",
    "\n",
    "`5\n",
    "Harry\n",
    "37.21\n",
    "Berry\n",
    "37.21\n",
    "Tina\n",
    "37.2\n",
    "Akriti\n",
    "41\n",
    "Harsh\n",
    "39\n",
    "`\n",
    "<b>Sample Output 0</b>\n",
    "\n",
    "`Berry\n",
    " Harry\n",
    "`\n",
    "<b>Explanation 0</b>\n",
    "\n",
    "There are `5` students in this class whose names and grades are assembled to build the following list:\n",
    "`python students = [['Harry', 37.21], ['Berry', 37.21], ['Tina', 37.2], ['Akriti', 41], ['Harsh', 39]] `\n",
    "\n",
    "The lowest grade of `37.2` belongs to Tina. The second lowest grade of `37.21`belongs to both Harry and Berry, so we order their names alphabetically and print each name on a new line."
   ]
  },
  {
   "cell_type": "code",
   "execution_count": null,
   "id": "48204d5f",
   "metadata": {},
   "outputs": [],
   "source": [
    "marksheet = []\n",
    "n = int(input())\n",
    "marks = float(input())\n",
    "name = input()\n",
    "\n",
    "# n = int(input())\n",
    "# marksheet = [[input(), float(input())] for _ in range(n)]\n",
    "\n",
    "for _ in range(0, n):\n",
    "    marksheet.append([name, marks])\n",
    "    \n",
    "second_lowest = sorted(list(set(marks for name,marks in marksheet)))[1]\n",
    "print('\\n'.join([name for name,marks in sorted(marksheet) if marks == second_highest]))"
   ]
  },
  {
   "cell_type": "markdown",
   "id": "f60bc8fe",
   "metadata": {},
   "source": [
    "#### key points -\n",
    "\n",
    "+ in the `marks for name,marks in marksheet`, we use list-comprehension, \n",
    "we took only `marks` for every `(names, marks)` in `marksheet`\n",
    "\n",
    "+ to find second lowest marks in the `marksheet` list, we first eliminate the repetating items in the list using `set()` function, then we sort the entire `marksheet` for only `marks`, and then `[1]` is for the second-lowest item in the list ;\n",
    "\n",
    "+ similarly for output we only took the `name` in `marksheet`\n",
    "\n",
    "+ lastly `join()` used only to add space between two consecutive output\n"
   ]
  },
  {
   "cell_type": "markdown",
   "id": "d5f6d2a6",
   "metadata": {},
   "source": [
    "#### some testing codes :p"
   ]
  },
  {
   "cell_type": "code",
   "execution_count": null,
   "id": "5a669897",
   "metadata": {},
   "outputs": [],
   "source": [
    "#test \n",
    "\n",
    "list = ['ajhj','GgHF','fIOIOIhj','FYISBXCQ','dqrs','zaqq','Ajgg']\n",
    "print(sorted(list)) # upper-case strings gets priority, alphabetically"
   ]
  },
  {
   "cell_type": "code",
   "execution_count": null,
   "id": "c50510db",
   "metadata": {},
   "outputs": [],
   "source": [
    "print(sorted(list, reverse = True, ))"
   ]
  },
  {
   "cell_type": "code",
   "execution_count": null,
   "id": "610f9ccf",
   "metadata": {},
   "outputs": [],
   "source": [
    "# test 2\n",
    "\n",
    "new_list = [23,5,43,78,97,1,2,34,56,5,78,97,23,23,23]\n",
    "length = len(new_list)\n",
    "new_list.sort()\n",
    "\n",
    "# largest\n",
    "print(new_list[-1])\n",
    "\n",
    "#smallest\n",
    "print(new_list[0])\n",
    "\n",
    "#second smallest\n",
    "print(new_list[1])\n",
    "\n",
    "print(set(new_list))\n",
    "\n",
    "print(list[set(new_list)])"
   ]
  },
  {
   "cell_type": "code",
   "execution_count": null,
   "id": "3e03b2d6",
   "metadata": {},
   "outputs": [],
   "source": [
    "my_set = {'Geeks', 'for', 'geeks'}\n",
    "  \n",
    "s = list(my_set)\n",
    "print(s)"
   ]
  },
  {
   "cell_type": "code",
   "execution_count": null,
   "id": "a8ff52e8",
   "metadata": {},
   "outputs": [],
   "source": [
    "'''\n",
    "n = int(input())\n",
    "record = []\n",
    "\n",
    "for i in range(n):\n",
    "    name = input()\n",
    "    score = float(input())\n",
    "    record.append([name, score])\n",
    "    \n",
    "    record = dict(record)\n",
    "    scores = sorted(set(record.values()))\n",
    "    \n",
    "    second_lowest = scores[1]\n",
    "    \n",
    "    second_lowest_students = [name for name, score in scores if score == second_lowest]\n",
    "    \n",
    "    for name in second_lowest_students:\n",
    "        print(name)\n",
    "\n",
    "'''"
   ]
  },
  {
   "cell_type": "code",
   "execution_count": null,
   "id": "39c49bfb",
   "metadata": {},
   "outputs": [],
   "source": [
    "\"\"\"\n",
    "no_of_students = int(input())\n",
    "records = []\n",
    "for i in range(no_of_students):\n",
    "    name = input()\n",
    "    score = float(input())\n",
    "    records.append([name, score])\n",
    "records = dict(records)\n",
    "scores = sorted(set(records.values()))\n",
    "second_lowest_score = scores[1]\n",
    "second_lowest_students = [score for name,score in records if score==second_lowest_score]\n",
    "second_lowest_students.sort()\n",
    "for name in second_lowest_students:\n",
    "    print(name)\n",
    "\n",
    "\"\"\""
   ]
  },
  {
   "cell_type": "code",
   "execution_count": null,
   "id": "14caeeb2",
   "metadata": {},
   "outputs": [],
   "source": [
    "marksheet = []\n",
    "n = int(input())\n",
    "marks = float(input())\n",
    "name = input()\n",
    "\n",
    "for _ in range(0, n):\n",
    "    marksheet.append([name, marks])\n",
    "    \n",
    "second_lowest = sorted(list(set(marks for name,marks in marksheet)))[1]\n",
    "print(name for name,marks in sorted(marksheet) if marks == second_lowest)"
   ]
  },
  {
   "cell_type": "code",
   "execution_count": null,
   "id": "5e3c78af",
   "metadata": {},
   "outputs": [],
   "source": []
  }
 ],
 "metadata": {
  "kernelspec": {
   "display_name": "Python 3",
   "language": "python",
   "name": "python3"
  },
  "language_info": {
   "codemirror_mode": {
    "name": "ipython",
    "version": 3
   },
   "file_extension": ".py",
   "mimetype": "text/x-python",
   "name": "python",
   "nbconvert_exporter": "python",
   "pygments_lexer": "ipython3",
   "version": "3.8.10"
  }
 },
 "nbformat": 4,
 "nbformat_minor": 5
}
